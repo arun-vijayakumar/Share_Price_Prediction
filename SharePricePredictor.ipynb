{
 "cells": [
  {
   "cell_type": "markdown",
   "metadata": {},
   "source": [
    "# Share Price Predictor\n",
    "### This solution predicts the next day share value using deep learning with RNN. The model is trained using the past one year share details using Yahoo API through Pandas DataReader library"
   ]
  },
  {
   "cell_type": "code",
   "execution_count": 1,
   "metadata": {},
   "outputs": [],
   "source": [
    "# Common imports\n",
    "import os\n",
    "import numpy as np\n",
    "import pandas as pd\n",
    "from pandas import Series, DataFrame\n",
    "\n",
    "#import for stock data visaulization\n",
    "import matplotlib\n",
    "import matplotlib.pyplot as plt\n",
    "import seaborn as sns\n",
    "%matplotlib inline\n",
    "\n",
    "#import for reading from yahoo fin\n",
    "from pandas_datareader import data\n",
    "from datetime import datetime\n",
    "\n",
    "import tensorflow as tf"
   ]
  },
  {
   "cell_type": "markdown",
   "metadata": {},
   "source": [
    "#### Download the past stock price data for 1 year using the Yahoo Data Reader"
   ]
  },
  {
   "cell_type": "code",
   "execution_count": 2,
   "metadata": {
    "scrolled": true
   },
   "outputs": [],
   "source": [
    "#define stocks to be used for data analysis\n",
    "stock_list = ['WMT', 'AMZN', 'DE', 'GOOG']\n",
    "#start and end date for fetching data. Get last 1 year history of stock price\n",
    "end = datetime.now()\n",
    "start = datetime(end.year-1, end.month, end.day)\n",
    "#Using Yahoo API dowload the stock price history\n",
    "for stock_symbol in stock_list:\n",
    "    globals() [stock_symbol] = data.DataReader(stock_symbol, 'yahoo', start , end)"
   ]
  },
  {
   "cell_type": "code",
   "execution_count": 3,
   "metadata": {
    "scrolled": true
   },
   "outputs": [
    {
     "name": "stdout",
     "output_type": "stream",
     "text": [
      "Walmart\n",
      "             High         Low        Open       Close        Volume  \\\n",
      "count  250.000000  250.000000  250.000000  250.000000  2.500000e+02   \n",
      "mean    95.673960   94.225320   94.887560   94.962080  7.868656e+06   \n",
      "std      5.628721    5.539734    5.624526    5.587032  3.600193e+06   \n",
      "min     82.519997   81.809998   81.959999   82.400002  3.727800e+06   \n",
      "25%     92.147501   90.257500   91.237501   91.207500  5.678200e+06   \n",
      "50%     96.655003   95.225002   95.864998   95.880001  7.104000e+06   \n",
      "75%     99.457500   98.027498   98.567501   98.705000  9.032425e+06   \n",
      "max    106.209999  104.809998  105.500000  105.559998  4.263130e+07   \n",
      "\n",
      "        Adj Close  \n",
      "count  250.000000  \n",
      "mean    93.725158  \n",
      "std      5.931513  \n",
      "min     80.615227  \n",
      "25%     90.239994  \n",
      "50%     94.539955  \n",
      "75%     97.790514  \n",
      "max    103.873398  \n",
      "Amazon\n",
      "              High          Low         Open        Close        Volume  \\\n",
      "count   250.000000   250.000000   250.000000   250.000000  2.500000e+02   \n",
      "mean   1773.678841  1732.013562  1754.580998  1753.491122  5.366792e+06   \n",
      "std     134.752015   142.156766   139.756482   138.376878  2.289339e+06   \n",
      "min    1396.030029  1307.000000  1346.000000  1343.959961  2.177300e+06   \n",
      "25%    1672.267517  1622.872498  1648.997528  1642.810059  3.681550e+06   \n",
      "50%    1766.719971  1716.895020  1742.559998  1752.494995  4.722200e+06   \n",
      "75%    1878.367493  1847.567505  1860.747498  1864.217529  6.408000e+06   \n",
      "max    2050.500000  2013.000000  2038.109985  2039.510010  1.496380e+07   \n",
      "\n",
      "         Adj Close  \n",
      "count   250.000000  \n",
      "mean   1753.491122  \n",
      "std     138.376878  \n",
      "min    1343.959961  \n",
      "25%    1642.810059  \n",
      "50%    1752.494995  \n",
      "75%    1864.217529  \n",
      "max    2039.510010  \n",
      "John Deere\n",
      "             High         Low        Open       Close        Volume  \\\n",
      "count  250.000000  250.000000  250.000000  250.000000  2.500000e+02   \n",
      "mean   152.621640  149.115040  150.825279  150.913240  2.365815e+06   \n",
      "std      9.017269    9.351918    9.226525    9.247859  1.102964e+06   \n",
      "min    132.960007  128.320007  130.500000  130.559998  8.897000e+05   \n",
      "25%    144.970005  141.375004  142.722496  143.330006  1.682625e+06   \n",
      "50%    151.934998  147.945000  149.934998  149.199997  2.091950e+06   \n",
      "75%    160.445004  156.950005  158.485001  158.785000  2.804075e+06   \n",
      "max    169.990005  167.899994  168.729996  169.149994  8.811200e+06   \n",
      "\n",
      "        Adj Close  \n",
      "count  250.000000  \n",
      "mean   149.582540  \n",
      "std      9.709822  \n",
      "min    129.260010  \n",
      "25%    141.562340  \n",
      "50%    147.481758  \n",
      "75%    158.189911  \n",
      "max    169.149994  \n"
     ]
    }
   ],
   "source": [
    "#view summary stocks of Walmart\n",
    "print ('Walmart')\n",
    "print(WMT.describe())\n",
    "#view summary stocks of Amazon\n",
    "print ('Amazon')\n",
    "print(AMZN.describe())\n",
    "print ('John Deere')\n",
    "print(DE.describe())\n"
   ]
  },
  {
   "cell_type": "code",
   "execution_count": 4,
   "metadata": {
    "scrolled": true
   },
   "outputs": [
    {
     "name": "stdout",
     "output_type": "stream",
     "text": [
      "<class 'pandas.core.frame.DataFrame'>\n",
      "DatetimeIndex: 250 entries, 2018-05-29 to 2019-05-24\n",
      "Data columns (total 6 columns):\n",
      "High         250 non-null float64\n",
      "Low          250 non-null float64\n",
      "Open         250 non-null float64\n",
      "Close        250 non-null float64\n",
      "Volume       250 non-null float64\n",
      "Adj Close    250 non-null float64\n",
      "dtypes: float64(6)\n",
      "memory usage: 13.7 KB\n"
     ]
    }
   ],
   "source": [
    "WMT.info()"
   ]
  },
  {
   "cell_type": "code",
   "execution_count": 5,
   "metadata": {},
   "outputs": [],
   "source": [
    "#create a pandas DataFrame for WMT stock\n",
    "WMT_ds = pd.DataFrame(WMT['Adj Close'])"
   ]
  },
  {
   "cell_type": "code",
   "execution_count": 6,
   "metadata": {
    "scrolled": true
   },
   "outputs": [
    {
     "data": {
      "text/plain": [
       "(250, 1)"
      ]
     },
     "execution_count": 6,
     "metadata": {},
     "output_type": "execute_result"
    }
   ],
   "source": [
    "WMT_ds.shape"
   ]
  },
  {
   "cell_type": "code",
   "execution_count": 7,
   "metadata": {
    "scrolled": true
   },
   "outputs": [
    {
     "data": {
      "text/plain": [
       "<matplotlib.axes._subplots.AxesSubplot at 0x16d8b14e320>"
      ]
     },
     "execution_count": 7,
     "metadata": {},
     "output_type": "execute_result"
    },
    {
     "data": {
      "image/png": "[encoded data removed]",
      "text/plain": [
       "<Figure size 432x288 with 1 Axes>"
      ]
     },
     "metadata": {
      "needs_background": "light"
     },
     "output_type": "display_data"
    }
   ],
   "source": [
    "WMT_ds.plot()"
   ]
  },
  {
   "cell_type": "code",
   "execution_count": 8,
   "metadata": {},
   "outputs": [],
   "source": [
    "WMT_arr = WMT_ds.iloc[:,0].values"
   ]
  },
  {
   "cell_type": "code",
   "execution_count": 9,
   "metadata": {},
   "outputs": [
    {
     "data": {
      "text/plain": [
       "(250,)"
      ]
     },
     "execution_count": 9,
     "metadata": {},
     "output_type": "execute_result"
    }
   ],
   "source": [
    "WMT_arr.shape"
   ]
  },
  {
   "cell_type": "code",
   "execution_count": 10,
   "metadata": {},
   "outputs": [
    {
     "data": {
      "text/plain": [
       "80.61522674560547"
      ]
     },
     "execution_count": 10,
     "metadata": {},
     "output_type": "execute_result"
    }
   ],
   "source": [
    "WMT_arr[0]"
   ]
  },
  {
   "cell_type": "code",
   "execution_count": 11,
   "metadata": {
    "scrolled": false
   },
   "outputs": [],
   "source": [
    "# divide the data into small batches and use them to train\n",
    "def next_batch(batch_size,num_steps):\n",
    "    x_batch = np.zeros((batch_size,num_steps))\n",
    "    y_batch = np.zeros((batch_size,num_steps))\n",
    "    \n",
    "    for i in range(batch_size):\n",
    "        stindex = np.random.randint(0,250-num_steps-1)\n",
    "        #print(stindex)\n",
    "        endindex = stindex + num_steps\n",
    "        x_batch[i] = WMT_arr[stindex: stindex + num_steps]\n",
    "        y_batch[i] = WMT_arr[stindex+1: stindex+num_steps+1]\n",
    "    return x_batch, y_batch\n"
   ]
  },
  {
   "cell_type": "code",
   "execution_count": 12,
   "metadata": {
    "scrolled": false
   },
   "outputs": [],
   "source": [
    "x_batch, y_batch  = next_batch(10,20)"
   ]
  },
  {
   "cell_type": "code",
   "execution_count": 13,
   "metadata": {
    "scrolled": false
   },
   "outputs": [
    {
     "data": {
      "text/plain": [
       "((10, 20), (10, 20))"
      ]
     },
     "execution_count": 13,
     "metadata": {},
     "output_type": "execute_result"
    }
   ],
   "source": [
    "x_batch.shape, y_batch.shape"
   ]
  },
  {
   "cell_type": "code",
   "execution_count": 14,
   "metadata": {
    "scrolled": false
   },
   "outputs": [
    {
     "data": {
      "text/plain": [
       "array([84.06877136, 85.32103729, 84.65576935, 84.64598083, 85.80041504,\n",
       "       85.74172211, 86.27981567, 86.16241455, 85.81999969, 86.15263367,\n",
       "       85.73194122, 86.05479431, 85.99609375, 86.31895447, 86.22111511,\n",
       "       86.9548645 , 87.29729462, 86.32872772, 86.83747101, 87.65927887])"
      ]
     },
     "execution_count": 14,
     "metadata": {},
     "output_type": "execute_result"
    }
   ],
   "source": [
    "x_batch[1]"
   ]
  },
  {
   "cell_type": "code",
   "execution_count": 15,
   "metadata": {
    "scrolled": true
   },
   "outputs": [
    {
     "data": {
      "text/plain": [
       "array([85.32103729, 84.65576935, 84.64598083, 85.80041504, 85.74172211,\n",
       "       86.27981567, 86.16241455, 85.81999969, 86.15263367, 85.73194122,\n",
       "       86.05479431, 85.99609375, 86.31895447, 86.22111511, 86.9548645 ,\n",
       "       87.29729462, 86.32872772, 86.83747101, 87.65927887, 87.72774506])"
      ]
     },
     "execution_count": 15,
     "metadata": {},
     "output_type": "execute_result"
    }
   ],
   "source": [
    "y_batch[1]"
   ]
  },
  {
   "cell_type": "code",
   "execution_count": 16,
   "metadata": {},
   "outputs": [],
   "source": [
    "# to make this notebook's output stable across runs\n",
    "def reset_graph(seed=42):\n",
    "    tf.reset_default_graph()\n",
    "    tf.set_random_seed(seed)\n",
    "    np.random.seed(seed)\n",
    "\n",
    "plt.rcParams['axes.labelsize'] = 14\n",
    "plt.rcParams['xtick.labelsize'] = 12\n",
    "plt.rcParams['ytick.labelsize'] = 12\n",
    "\n",
    "# Where to save the figures\n",
    "PROJECT_ROOT_DIR = \".\"\n",
    "CHAPTER_ID = \"rnn\"\n",
    "\n",
    "def save_fig(fig_id, tight_layout=True):\n",
    "    path = os.path.join(PROJECT_ROOT_DIR, \"images\", CHAPTER_ID, fig_id + \".png\")\n",
    "    print(\"Saving figure\", fig_id)\n",
    "    if tight_layout:\n",
    "        plt.tight_layout()\n",
    "    plt.savefig(path, format='png', dpi=300)"
   ]
  },
  {
   "cell_type": "markdown",
   "metadata": {},
   "source": [
    "#### Deep Learning using Tensorflow\n",
    "Find the share price 1 day ahead"
   ]
  },
  {
   "cell_type": "code",
   "execution_count": 17,
   "metadata": {
    "scrolled": true
   },
   "outputs": [],
   "source": [
    "reset_graph()\n",
    "\n",
    "n_steps = 20\n",
    "n_inputs = 1\n",
    "n_neurons = 100\n",
    "n_outputs = 1\n",
    "\n",
    "X = tf.placeholder(tf.float32, [None, n_steps, n_inputs])\n",
    "y = tf.placeholder(tf.float32, [None, n_steps, n_outputs])"
   ]
  },
  {
   "cell_type": "code",
   "execution_count": null,
   "metadata": {},
   "outputs": [],
   "source": [
    "cell = tf.contrib.rnn.OutputProjectionWrapper(\n",
    "    tf.contrib.rnn.BasicRNNCell(num_units=n_neurons, activation=tf.nn.relu),\n",
    "    output_size=n_outputs)"
   ]
  },
  {
   "cell_type": "code",
   "execution_count": null,
   "metadata": {},
   "outputs": [],
   "source": [
    "outputs, states = tf.nn.dynamic_rnn(cell, X, dtype=tf.float32)"
   ]
  },
  {
   "cell_type": "code",
   "execution_count": null,
   "metadata": {},
   "outputs": [],
   "source": [
    "learning_rate = 0.001\n",
    "# MSE\n",
    "loss = tf.reduce_mean(tf.square(outputs - y))\n",
    "\n",
    "optimizer = tf.train.AdamOptimizer(learning_rate=learning_rate)\n",
    "training_op = optimizer.minimize(loss)\n",
    "\n",
    "init = tf.global_variables_initializer()"
   ]
  },
  {
   "cell_type": "code",
   "execution_count": null,
   "metadata": {
    "scrolled": false
   },
   "outputs": [],
   "source": [
    "# save the trained model so that it can be used later\n",
    "saver = tf.train.Saver()\n",
    "n_iterations = 1000\n",
    "batch_size = 15\n",
    "\n",
    "with tf.Session() as sess:\n",
    "    init.run()\n",
    "    for iteration in range(n_iterations):\n",
    "        X_batch, y_batch = next_batch(batch_size, n_steps)\n",
    "        X_batch = X_batch.reshape(batch_size,n_steps,1)\n",
    "        y_batch = y_batch.reshape(batch_size,n_steps,1)\n",
    "        sess.run(training_op, feed_dict={X: X_batch, y: y_batch})\n",
    "        if iteration % 100 == 0:\n",
    "            mse = loss.eval(feed_dict={X: X_batch, y: y_batch})\n",
    "            print(iteration, \"\\tMSE:\", mse)\n",
    "    \n",
    "    saver.save(sess, \"./share_predictor_model\") # not shown in the content"
   ]
  },
  {
   "cell_type": "code",
   "execution_count": null,
   "metadata": {
    "scrolled": true
   },
   "outputs": [],
   "source": [
    "# restore the saved model\n",
    "# pass the input to the model and get the prediction\n",
    "with tf.Session() as sess:\n",
    "    saver.restore(sess, \"./share_predictor_model\")\n",
    "\n",
    "    X_new = WMT_arr[109:129]\n",
    "    X_new = X_new.reshape(1,20,1)\n",
    "    y_pred = sess.run(outputs, feed_dict={X: X_new})\n",
    "    y_true= WMT_arr[110:130]\n",
    "    print(y_pred)"
   ]
  },
  {
   "cell_type": "code",
   "execution_count": null,
   "metadata": {
    "scrolled": true
   },
   "outputs": [],
   "source": [
    "plt.plot(y_true, marker=\"o\", color=\"green\")\n",
    "plt.plot(y_pred.ravel(), marker=\"*\", color=\"blue\")"
   ]
  },
  {
   "cell_type": "code",
   "execution_count": null,
   "metadata": {
    "scrolled": false
   },
   "outputs": [],
   "source": [
    "#View First 5 records\n",
    "WMT_ds.head()"
   ]
  },
  {
   "cell_type": "code",
   "execution_count": null,
   "metadata": {
    "scrolled": true
   },
   "outputs": [],
   "source": [
    "WMT_ds.plot(legend=True, figsize=(10,4))"
   ]
  },
  {
   "cell_type": "code",
   "execution_count": null,
   "metadata": {
    "scrolled": false
   },
   "outputs": [],
   "source": [
    "#view volume of stock traded every day\n",
    "WMT['Volume'].plot(legend=True, figsize=(10,4))"
   ]
  },
  {
   "cell_type": "code",
   "execution_count": null,
   "metadata": {
    "scrolled": true
   },
   "outputs": [],
   "source": [
    "#plot all stock performances  on Adj close for entire year\n",
    "plt.figure(figsize=(14,8))\n",
    "plt.plot(WMT['Adj Close'], 'r', label='Walmart', linewidth=1)\n",
    "plt.plot(AMZN['Adj Close'], 'b', label='Amazon', linewidth=1)\n",
    "plt.plot(DE['Adj Close'], 'g', label='John Deere', linewidth=1)\n",
    "plt.plot(GOOG['Adj Close'], 'm', label='Google', linewidth=1)\n",
    "plt.legend()\n",
    "plt.show()"
   ]
  },
  {
   "cell_type": "code",
   "execution_count": null,
   "metadata": {
    "scrolled": false
   },
   "outputs": [],
   "source": [
    "#computing pc chnage\n",
    "WMT['Daily Return'] = WMT['Adj Close'].pct_change()\n",
    "WMT['Daily Return'].plot(figsize=(15,6), legend=True, linestyle='--', marker='o')"
   ]
  },
  {
   "cell_type": "code",
   "execution_count": null,
   "metadata": {},
   "outputs": [],
   "source": [
    "#Fetch closing prices\n",
    "closing_price_stock = data.DataReader(['WMT', 'AMZN', 'DE', 'GOOG'], 'yahoo', start , end)['Adj Close']"
   ]
  },
  {
   "cell_type": "code",
   "execution_count": null,
   "metadata": {},
   "outputs": [],
   "source": [
    "closing_price_stock.head()"
   ]
  },
  {
   "cell_type": "code",
   "execution_count": null,
   "metadata": {},
   "outputs": [],
   "source": [
    "stock_returns = closing_price_stock.pct_change()"
   ]
  },
  {
   "cell_type": "code",
   "execution_count": null,
   "metadata": {
    "scrolled": false
   },
   "outputs": [],
   "source": [
    "#compare daily returns of Google and Walmart\n",
    "sns.jointplot('GOOG', 'WMT', stock_returns,kind='scatter')"
   ]
  },
  {
   "cell_type": "code",
   "execution_count": null,
   "metadata": {
    "scrolled": false
   },
   "outputs": [],
   "source": [
    "sns.pairplot(stock_returns.dropna())"
   ]
  },
  {
   "cell_type": "code",
   "execution_count": null,
   "metadata": {},
   "outputs": [],
   "source": []
  }
 ],
 "metadata": {
  "kernelspec": {
   "display_name": "Python 3",
   "language": "python",
   "name": "python3"
  },
  "language_info": {
   "codemirror_mode": {
    "name": "ipython",
    "version": 3
   },
   "file_extension": ".py",
   "mimetype": "text/x-python",
   "name": "python",
   "nbconvert_exporter": "python",
   "pygments_lexer": "ipython3",
   "version": "3.6.8"
  }
 },
 "nbformat": 4,
 "nbformat_minor": 1
}
